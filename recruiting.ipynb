{
 "cells": [
  {
   "cell_type": "code",
   "execution_count": 102,
   "metadata": {},
   "outputs": [],
   "source": [
    "import csv, os\n",
    "import pandas as pd\n",
    "from tqdm import tqdm\n",
    "import numpy as np"
   ]
  },
  {
   "cell_type": "code",
   "execution_count": 139,
   "metadata": {},
   "outputs": [],
   "source": [
    "def new_height(x):\n",
    "    if x != ' ':\n",
    "        if x == '-' or x == '.' or x.split('-')[0] == '0' or x == 'nan':\n",
    "            return np.nan\n",
    "        else:\n",
    "            d = {'May': 5, 'Jun': 6}\n",
    "            if 'May' in x or 'Jun' in x:\n",
    "                y = x.split('-')\n",
    "                if '00' != y[1]:\n",
    "                    return float(y[0]) + 12 * float(d[y[1]])\n",
    "                else:\n",
    "                    return float(d[y[0]]) * 12\n",
    "            else:\n",
    "                y = x.split('-')\n",
    "                return float(y[0]) * 12 + float(y[1])\n",
    "\n",
    "def get_location(x):\n",
    "    if x != ' ' or x != 'nan ':\n",
    "        y = x.split(\" (\")\n",
    "        if \"()\" in x:\n",
    "            return np.nan\n",
    "        else:\n",
    "            ys = y[1].rstrip(\")\").strip()\n",
    "            if ',' not in ys:\n",
    "                return ', '.join([ys[:-2].strip(), ys[-2:].strip()]).strip()\n",
    "            else:\n",
    "                return ys\n",
    "    else:\n",
    "        return np.nan\n",
    "\n",
    "def get_highschool(x):\n",
    "    if x != ' ' or x != 'nan ':\n",
    "        y = x.split(\" (\")\n",
    "        return y[0].strip()\n",
    "    else:\n",
    "        return np.nan"
   ]
  },
  {
   "cell_type": "code",
   "execution_count": 142,
   "metadata": {},
   "outputs": [
    {
     "name": "stderr",
     "output_type": "stream",
     "text": [
      "100%|██████████| 61/61 [00:01<00:00, 37.51it/s]\n"
     ]
    }
   ],
   "source": [
    "files = os.listdir(\"Recruiting\")\n",
    "total = pd.DataFrame()\n",
    "for f in tqdm(files):\n",
    "    if not f.endswith(\".ipynb_checkpoints\"):\n",
    "        path = os.path.join(\"Recruiting\", f)\n",
    "        df = pd.read_csv(path)\n",
    "        p = f.rstrip(\" Player Rankings.csv\").split(\" - \")\n",
    "        df['height'] = df['height'].astype(str).apply(lambda x: new_height(x))\n",
    "        df['type'] = [p[0] for i in range(len(df))]\n",
    "        df['year'] = [p[1] for i in range(len(df))]\n",
    "        df['location'] = df['highSchool'].apply(lambda x: get_location(x))\n",
    "        df['highSchool'] = df['highSchool'].apply(lambda x: get_highschool(x))\n",
    "        total = total.append(df, ignore_index = True)\n",
    "total = total.fillna(np.mean(total))\n",
    "total.to_csv(\"total_recruiting.csv\", index = False)"
   ]
  }
 ],
 "metadata": {
  "kernelspec": {
   "display_name": "Python 3",
   "language": "python",
   "name": "python3"
  },
  "language_info": {
   "codemirror_mode": {
    "name": "ipython",
    "version": 3
   },
   "file_extension": ".py",
   "mimetype": "text/x-python",
   "name": "python",
   "nbconvert_exporter": "python",
   "pygments_lexer": "ipython3",
   "version": "3.8.5"
  }
 },
 "nbformat": 4,
 "nbformat_minor": 4
}
