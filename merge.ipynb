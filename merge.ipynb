{
 "cells": [
  {
   "cell_type": "code",
   "execution_count": 9,
   "metadata": {},
   "outputs": [],
   "source": [
    "import pandas as pd\n",
    "import os"
   ]
  },
  {
   "cell_type": "code",
   "execution_count": 10,
   "metadata": {},
   "outputs": [],
   "source": [
    "rank = pd.read_csv(\"total_rankings.csv\")\n",
    "rec = pd.read_csv(\"total_recruiting.csv\")"
   ]
  },
  {
   "cell_type": "code",
   "execution_count": 15,
   "metadata": {},
   "outputs": [],
   "source": [
    "def names(x):\n",
    "    d = {\"C Michigan\": \"Central Michigan\", \"Penn\": \"Pennsylvania\", \"Miami OH\": \"Miami (OH)\", \n",
    "         \"Cent Arkansas\": \"Central Arkansas\", \"E Michigan\": \"Eastern Michigan\", \"Grambling\": \"Grambling State\",\n",
    "         \"Charleston So\": \"Charleston Southern\", \"Florida International\": \"FIU\", \"E Washington\": \"Eastern Washington\", \n",
    "         \"Northwestern LA\": \"Northwestern State\", \"Central Conn\": \"Central Connecticut\", \"CS Sacramento\": \"Sacramento State\", \n",
    "         \"N Dakota State\": \"North Dakota State\", \"Northeastern\": \"Northeastern State\", \"MTSU\": \"Middle Tennessee State\", \n",
    "         \"NC A&T\": \"North Carolina A&T\", \"MS Valley State\": \"Mississippi Valley State\", \"South Florida\": \"USF\", \"Mississippi\": \"Ole Miss\",\n",
    "         \"Gardner Webb\": \"Gardner-Webb\", \"SE Louisiana\": \"Southeastern Louisiana\", \"TX Southern\": \"Texas Southern\", \"Miami (FL)\": \"Miami\", \n",
    "         \"ULL\": \"Louisiana-Lafayette\", \"Ark Pine Bluff\": \"Arkansas-Pine Bluff\", \"Houston Bap\": \"Houston Baptist\", \"UT San Antonio\": \"UTSA\", \n",
    "         \"VMI\": \"Virginia Military Institute\", \"Prairie View\": \"Prairie View A&M\", \"FL Atlantic\": \"Florida Atlantic\", \n",
    "         \"St Francis PA\": \"St. Francis (PA)\", \"Abilene Chr\": \"Abilene Christian\", \"Albany NY\": \"Albany\", \"BYU\": \"Brigham Young\",\n",
    "         \"Cal Poly SLO\": \"Cal Poly\", \"Coastal Car\": \"Coastal Carolina\", \"E Illinois\": \"Eastern Illinois\", \"E Kentucky\": \"Eastern Kentucky\", \n",
    "         \"Ga Southern\": \"Georgia Southern\", \"Kennesaw\": \"Kennesaw State\", \"Kent\": \"Kent State\", \"MS Valley State\": \"Mississippi Valley State\", \n",
    "         \"Monmouth NJ\": \"Monmouth\", \"S Dakota State\": \"South Dakota State\", \"N Illinois\": \"Northern Illinois\", \n",
    "         \"NC Central\": \"North Carolina Central\", \"NC State\": \"N.C. State\", \"SC State\": \"South Carolina State\", \n",
    "         \"S Illinois\": \"Southern Illinois\", \"SE Missouri St\": \"Southeast Missouri State\", \"S Carolina State\": \"South Carolina State\", \n",
    "         \"SF Austin\": \"Stephen F. Austin\", \"Southern Univ\": \"Southern University\", \"TN Martin\": \"Tennessee-Martin\", \"ULM\": \"Louisina-Monroe\", \n",
    "         \"W Carolina\": \"Western Carolina\", \"W Illinois\": \"Western Illinois\", \"W Michigan\": \"Western Michigan\", \"WKU\": \"Western Kentucky\",\n",
    "         \"Southern Mississippi\": \"Southern Miss\"}\n",
    "    if x.strip() in list(d.keys()):\n",
    "        return d[x.strip()]\n",
    "    else:\n",
    "        if x.endswith('St'):\n",
    "            x = x.replace(\"St\", \"State\")\n",
    "            return x\n",
    "        else:\n",
    "            return x"
   ]
  },
  {
   "cell_type": "code",
   "execution_count": 17,
   "metadata": {},
   "outputs": [],
   "source": [
    "mer = rec.merge(rank, on = ['college', 'year']).sort_values(['year', 'rating'], ascending = [True, False]).reset_index(drop = True)\n",
    "mer.ranking = mer.ranking.astype(int)\n",
    "\n",
    "cfbdata = pd.read_csv('CFBData.csv').drop('Unnamed: 0', axis = 1)\n",
    "cfbdata = cfbdata.rename({'School': 'college', 'Year': 'year'}, axis = 1).drop(['Rk', 'AP Rank'], axis = 1)\n",
    "\n",
    "cfbdata['college'] = cfbdata['college'].apply(lambda x: names(x))\n",
    "\n",
    "total_merged = mer.merge(cfbdata, on = ['college', 'year'])\n",
    "\n",
    "total_merged.to_csv('total_merged.csv', index = False)"
   ]
  }
 ],
 "metadata": {
  "kernelspec": {
   "display_name": "Python 3",
   "language": "python",
   "name": "python3"
  },
  "language_info": {
   "codemirror_mode": {
    "name": "ipython",
    "version": 3
   },
   "file_extension": ".py",
   "mimetype": "text/x-python",
   "name": "python",
   "nbconvert_exporter": "python",
   "pygments_lexer": "ipython3",
   "version": "3.8.5"
  }
 },
 "nbformat": 4,
 "nbformat_minor": 4
}
